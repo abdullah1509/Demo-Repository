{
 "cells": [
  {
   "cell_type": "markdown",
   "id": "5698e326",
   "metadata": {},
   "source": [
    "### a. What is the probability that exactly 20 bulbs are defective? "
   ]
  },
  {
   "cell_type": "markdown",
   "id": "920ca8ea",
   "metadata": {},
   "source": [
    "To calculate the probability that exactly 20 bulbs are defective, we can use the binomial probability formula. The formula is:\n",
    "\n",
    "P(X = k) = (nCk) * p^k * (1-p)^(n-k)\n",
    "\n",
    "Where:\n",
    "P(X = k) is the probability of exactly k successes (defective bulbs)\n",
    "n is the total number of trials (total bulbs produced)\n",
    "k is the number of successes (defective bulbs)\n",
    "p is the probability of success (probability of a bulb being defective)\n",
    "\n",
    "In this case, n = 500, k = 20, and p = 0.05."
   ]
  },
  {
   "cell_type": "code",
   "execution_count": 1,
   "id": "a8e655fa",
   "metadata": {},
   "outputs": [
    {
     "name": "stdout",
     "output_type": "stream",
     "text": [
      "Probability that exactly 20 bulbs are defective: 0.051616192536641056\n"
     ]
    }
   ],
   "source": [
    "from scipy.stats import binom\n",
    "\n",
    "n = 500\n",
    "k = 20\n",
    "p = 0.05\n",
    "\n",
    "probability_20_defective = binom.pmf(k, n, p)\n",
    "print(\"Probability that exactly 20 bulbs are defective:\", probability_20_defective)"
   ]
  },
  {
   "cell_type": "markdown",
   "id": "6a53ee93",
   "metadata": {},
   "source": [
    "### b. What is the probability that at least 10 bulbs are defective?"
   ]
  },
  {
   "cell_type": "code",
   "execution_count": 2,
   "id": "f68e9c11",
   "metadata": {},
   "outputs": [
    {
     "name": "stdout",
     "output_type": "stream",
     "text": [
      "Probability that at least 10 bulbs are defective: 0.9998316463654902\n"
     ]
    }
   ],
   "source": [
    "probability_at_least_10_defective = 1 - binom.cdf(9, n, p)\n",
    "print(\"Probability that at least 10 bulbs are defective:\", probability_at_least_10_defective)"
   ]
  },
  {
   "cell_type": "markdown",
   "id": "724fdb45",
   "metadata": {},
   "source": [
    "### c. What is the probability that at max 15 bulbs are defective?"
   ]
  },
  {
   "cell_type": "code",
   "execution_count": 3,
   "id": "c91c57cc",
   "metadata": {},
   "outputs": [
    {
     "name": "stdout",
     "output_type": "stream",
     "text": [
      "Probability that at most 15 bulbs are defective: 0.01985837716300623\n"
     ]
    }
   ],
   "source": [
    "probability_max_15_defective = binom.cdf(15, n, p)\n",
    "print(\"Probability that at most 15 bulbs are defective:\", probability_max_15_defective)"
   ]
  },
  {
   "cell_type": "markdown",
   "id": "abec0fed",
   "metadata": {},
   "source": [
    "### d. On average, how many defective bulbs would you expect in a batch of 500?"
   ]
  },
  {
   "cell_type": "code",
   "execution_count": 4,
   "id": "c1215bf0",
   "metadata": {},
   "outputs": [
    {
     "name": "stdout",
     "output_type": "stream",
     "text": [
      "Average number of defective bulbs in a batch of 500: 25.0\n"
     ]
    }
   ],
   "source": [
    "expected_defective = n * p\n",
    "print(\"Average number of defective bulbs in a batch of 500:\", expected_defective)"
   ]
  },
  {
   "cell_type": "code",
   "execution_count": null,
   "id": "6e9142e9",
   "metadata": {},
   "outputs": [],
   "source": []
  }
 ],
 "metadata": {
  "kernelspec": {
   "display_name": "Python 3 (ipykernel)",
   "language": "python",
   "name": "python3"
  },
  "language_info": {
   "codemirror_mode": {
    "name": "ipython",
    "version": 3
   },
   "file_extension": ".py",
   "mimetype": "text/x-python",
   "name": "python",
   "nbconvert_exporter": "python",
   "pygments_lexer": "ipython3",
   "version": "3.7.15"
  }
 },
 "nbformat": 4,
 "nbformat_minor": 5
}
