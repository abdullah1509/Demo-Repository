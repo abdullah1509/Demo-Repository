{
 "cells": [
  {
   "cell_type": "code",
   "execution_count": 1,
   "id": "b5958b1d",
   "metadata": {},
   "outputs": [],
   "source": [
    "import pandas as pd\n",
    "from scipy.stats import f_oneway"
   ]
  },
  {
   "cell_type": "code",
   "execution_count": 2,
   "id": "831ae132",
   "metadata": {},
   "outputs": [],
   "source": [
    "# Create a DataFrame with the given data\n",
    "data = pd.DataFrame({\n",
    "    'Name': ['Karan', 'Deepak', 'Karthik', 'Chandan', 'Jeevan'],\n",
    "    'Exam1': [85, 70, 90, 75, 95],\n",
    "    'Exam2': [90, 80, 85, 70, 92],\n",
    "    'Final Exam': [92, 85, 88, 75, 96]\n",
    "})"
   ]
  },
  {
   "cell_type": "code",
   "execution_count": 3,
   "id": "ffb8f0ab",
   "metadata": {},
   "outputs": [],
   "source": [
    "# Perform one-way ANOVA test\n",
    "f_value, p_value = f_oneway(data['Exam1'], data['Exam2'], data['Final Exam'])"
   ]
  },
  {
   "cell_type": "code",
   "execution_count": 4,
   "id": "d461af08",
   "metadata": {},
   "outputs": [
    {
     "name": "stdout",
     "output_type": "stream",
     "text": [
      "One-way ANOVA test:\n",
      "F-value: 0.3236947791164659\n",
      "p-value: 0.7295954253321559\n"
     ]
    }
   ],
   "source": [
    "# Print the test result\n",
    "print(\"One-way ANOVA test:\")\n",
    "print(\"F-value:\", f_value)\n",
    "print(\"p-value:\", p_value)"
   ]
  },
  {
   "cell_type": "code",
   "execution_count": 5,
   "id": "b52c7294",
   "metadata": {},
   "outputs": [
    {
     "name": "stdout",
     "output_type": "stream",
     "text": [
      "Student with the highest score: Jeevan\n"
     ]
    }
   ],
   "source": [
    "# Find the student with the highest score\n",
    "max_score = data[['Exam1', 'Exam2', 'Final Exam']].max(axis=1)\n",
    "highest_student = data.loc[max_score.idxmax(), 'Name']\n",
    "\n",
    "# Print the student with the highest score\n",
    "print(\"Student with the highest score:\", highest_student)"
   ]
  },
  {
   "cell_type": "code",
   "execution_count": null,
   "id": "b5572f07",
   "metadata": {},
   "outputs": [],
   "source": []
  }
 ],
 "metadata": {
  "kernelspec": {
   "display_name": "Python 3 (ipykernel)",
   "language": "python",
   "name": "python3"
  },
  "language_info": {
   "codemirror_mode": {
    "name": "ipython",
    "version": 3
   },
   "file_extension": ".py",
   "mimetype": "text/x-python",
   "name": "python",
   "nbconvert_exporter": "python",
   "pygments_lexer": "ipython3",
   "version": "3.7.15"
  }
 },
 "nbformat": 4,
 "nbformat_minor": 5
}
