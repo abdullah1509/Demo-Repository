{
 "cells": [
  {
   "cell_type": "code",
   "execution_count": 1,
   "id": "6e936dfd",
   "metadata": {},
   "outputs": [],
   "source": [
    "import pandas as pd\n",
    "import matplotlib.pyplot as plt\n",
    "import scipy.stats as stats"
   ]
  },
  {
   "cell_type": "code",
   "execution_count": 2,
   "id": "ae63525b",
   "metadata": {},
   "outputs": [
    {
     "data": {
      "text/html": [
       "<div>\n",
       "<style scoped>\n",
       "    .dataframe tbody tr th:only-of-type {\n",
       "        vertical-align: middle;\n",
       "    }\n",
       "\n",
       "    .dataframe tbody tr th {\n",
       "        vertical-align: top;\n",
       "    }\n",
       "\n",
       "    .dataframe thead th {\n",
       "        text-align: right;\n",
       "    }\n",
       "</style>\n",
       "<table border=\"1\" class=\"dataframe\">\n",
       "  <thead>\n",
       "    <tr style=\"text-align: right;\">\n",
       "      <th></th>\n",
       "      <th>Patient ID</th>\n",
       "      <th>Blood Pressure Before (mmHg)</th>\n",
       "      <th>Blood Pressure After (mmHg)</th>\n",
       "    </tr>\n",
       "  </thead>\n",
       "  <tbody>\n",
       "    <tr>\n",
       "      <th>0</th>\n",
       "      <td>1</td>\n",
       "      <td>130</td>\n",
       "      <td>120</td>\n",
       "    </tr>\n",
       "    <tr>\n",
       "      <th>1</th>\n",
       "      <td>2</td>\n",
       "      <td>142</td>\n",
       "      <td>135</td>\n",
       "    </tr>\n",
       "    <tr>\n",
       "      <th>2</th>\n",
       "      <td>3</td>\n",
       "      <td>120</td>\n",
       "      <td>118</td>\n",
       "    </tr>\n",
       "    <tr>\n",
       "      <th>3</th>\n",
       "      <td>4</td>\n",
       "      <td>135</td>\n",
       "      <td>127</td>\n",
       "    </tr>\n",
       "    <tr>\n",
       "      <th>4</th>\n",
       "      <td>5</td>\n",
       "      <td>148</td>\n",
       "      <td>140</td>\n",
       "    </tr>\n",
       "  </tbody>\n",
       "</table>\n",
       "</div>"
      ],
      "text/plain": [
       "   Patient ID   Blood Pressure Before (mmHg)   Blood Pressure After (mmHg)\n",
       "0           1                            130                           120\n",
       "1           2                            142                           135\n",
       "2           3                            120                           118\n",
       "3           4                            135                           127\n",
       "4           5                            148                           140"
      ]
     },
     "execution_count": 2,
     "metadata": {},
     "output_type": "execute_result"
    }
   ],
   "source": [
    "# Read the dataset from the link\n",
    "data = pd.read_csv('bp_data.csv')\n",
    "data.head()"
   ]
  },
  {
   "cell_type": "code",
   "execution_count": 3,
   "id": "c32bdeb6",
   "metadata": {
    "scrolled": true
   },
   "outputs": [],
   "source": [
    "if data is not None:\n",
    "    data.columns = ['Patient ID', 'Blood Pressure Before', 'Blood Pressure After']  # Replace with your desired column names\n",
    "    # Rest of your code using the renamed columns\n",
    "    ...\n",
    "else:\n",
    "    print(\"DataFrame is None. Please check your data or DataFrame creation code.\")\n"
   ]
  },
  {
   "cell_type": "code",
   "execution_count": 4,
   "id": "0c8bdc6e",
   "metadata": {},
   "outputs": [
    {
     "data": {
      "text/plain": [
       "Index(['Patient ID', 'Blood Pressure Before', 'Blood Pressure After'], dtype='object')"
      ]
     },
     "execution_count": 4,
     "metadata": {},
     "output_type": "execute_result"
    }
   ],
   "source": [
    "data.columns"
   ]
  },
  {
   "cell_type": "code",
   "execution_count": 5,
   "id": "7d38cb71",
   "metadata": {},
   "outputs": [
    {
     "data": {
      "text/html": [
       "<div>\n",
       "<style scoped>\n",
       "    .dataframe tbody tr th:only-of-type {\n",
       "        vertical-align: middle;\n",
       "    }\n",
       "\n",
       "    .dataframe tbody tr th {\n",
       "        vertical-align: top;\n",
       "    }\n",
       "\n",
       "    .dataframe thead th {\n",
       "        text-align: right;\n",
       "    }\n",
       "</style>\n",
       "<table border=\"1\" class=\"dataframe\">\n",
       "  <thead>\n",
       "    <tr style=\"text-align: right;\">\n",
       "      <th></th>\n",
       "      <th>Patient ID</th>\n",
       "      <th>Blood Pressure Before</th>\n",
       "      <th>Blood Pressure After</th>\n",
       "    </tr>\n",
       "  </thead>\n",
       "  <tbody>\n",
       "    <tr>\n",
       "      <th>0</th>\n",
       "      <td>1</td>\n",
       "      <td>130</td>\n",
       "      <td>120</td>\n",
       "    </tr>\n",
       "    <tr>\n",
       "      <th>1</th>\n",
       "      <td>2</td>\n",
       "      <td>142</td>\n",
       "      <td>135</td>\n",
       "    </tr>\n",
       "    <tr>\n",
       "      <th>2</th>\n",
       "      <td>3</td>\n",
       "      <td>120</td>\n",
       "      <td>118</td>\n",
       "    </tr>\n",
       "    <tr>\n",
       "      <th>3</th>\n",
       "      <td>4</td>\n",
       "      <td>135</td>\n",
       "      <td>127</td>\n",
       "    </tr>\n",
       "    <tr>\n",
       "      <th>4</th>\n",
       "      <td>5</td>\n",
       "      <td>148</td>\n",
       "      <td>140</td>\n",
       "    </tr>\n",
       "  </tbody>\n",
       "</table>\n",
       "</div>"
      ],
      "text/plain": [
       "   Patient ID  Blood Pressure Before  Blood Pressure After\n",
       "0           1                    130                   120\n",
       "1           2                    142                   135\n",
       "2           3                    120                   118\n",
       "3           4                    135                   127\n",
       "4           5                    148                   140"
      ]
     },
     "execution_count": 5,
     "metadata": {},
     "output_type": "execute_result"
    }
   ],
   "source": [
    "data.head()"
   ]
  },
  {
   "cell_type": "markdown",
   "id": "75431c79",
   "metadata": {},
   "source": [
    "### b. Calculate mean and 5% confidence interval and plot it in a graph"
   ]
  },
  {
   "cell_type": "code",
   "execution_count": 6,
   "id": "c94a0d2a",
   "metadata": {
    "scrolled": true
   },
   "outputs": [],
   "source": [
    "# Calculate mean and confidence interval for 'Blood Pressure Before'\n",
    "bp_before_mean = data[\"Blood Pressure Before\"].mean()\n",
    "bp_before_ci = stats.t.interval(0.95, \n",
    "                                len(data)-1, \n",
    "                                loc=bp_before_mean, \n",
    "                                scale=stats.sem(data[\"Blood Pressure Before\"]))"
   ]
  },
  {
   "cell_type": "code",
   "execution_count": 7,
   "id": "4652fe8f",
   "metadata": {
    "scrolled": true
   },
   "outputs": [],
   "source": [
    "# Calculate mean and confidence interval for 'Blood Pressure After'\n",
    "bp_after_mean = data['Blood Pressure After'].mean()\n",
    "bp_after_ci = stats.t.interval(0.95, \n",
    "                               len(data)-1, \n",
    "                               loc=bp_after_mean, \n",
    "                               scale=stats.sem(data['Blood Pressure After']))"
   ]
  },
  {
   "cell_type": "code",
   "execution_count": 8,
   "id": "9b4ee965",
   "metadata": {},
   "outputs": [
    {
     "data": {
      "image/png": "[encoded data removed]",
      "text/plain": [
       "<Figure size 640x480 with 1 Axes>"
      ]
     },
     "metadata": {},
     "output_type": "display_data"
    }
   ],
   "source": [
    "# Plotting the mean and confidence interval\n",
    "plt.bar(['Before', 'After'], [bp_before_mean, bp_after_mean], yerr=[bp_before_ci[1]-bp_before_mean, bp_after_ci[1]-bp_after_mean], capsize=5)\n",
    "plt.ylabel('Mean Blood Pressure')\n",
    "plt.title('Mean Blood Pressure Before and After')\n",
    "plt.show()"
   ]
  },
  {
   "cell_type": "markdown",
   "id": "4fc5cf62",
   "metadata": {},
   "source": [
    "### c. Calculate the Mean absolute deviation and Standard deviation and interpret the results."
   ]
  },
  {
   "cell_type": "code",
   "execution_count": 10,
   "id": "b2bf7582",
   "metadata": {},
   "outputs": [
    {
     "name": "stdout",
     "output_type": "stream",
     "text": [
      "Mean Absolute Deviation (MAD) for 'Blood Pressure Before': 5.7118\n"
     ]
    }
   ],
   "source": [
    "# Calculate the Mean Absolute Deviation (MAD) for 'Blood Pressure Before'\n",
    "bp_before_mad = data['Blood Pressure Before'].mad()\n",
    "print(\"Mean Absolute Deviation (MAD) for 'Blood Pressure Before':\", bp_before_mad)"
   ]
  },
  {
   "cell_type": "code",
   "execution_count": 11,
   "id": "e4f8c7da",
   "metadata": {},
   "outputs": [
    {
     "name": "stdout",
     "output_type": "stream",
     "text": [
      "Standard Deviation for 'Blood Pressure Before': 6.598278012275075\n"
     ]
    }
   ],
   "source": [
    "# Calculate the Standard Deviation for 'Blood Pressure Before'\n",
    "bp_before_std = data['Blood Pressure Before'].std()\n",
    "print(\"Standard Deviation for 'Blood Pressure Before':\", bp_before_std)"
   ]
  },
  {
   "cell_type": "code",
   "execution_count": 12,
   "id": "f99660e5",
   "metadata": {},
   "outputs": [
    {
     "name": "stdout",
     "output_type": "stream",
     "text": [
      "Mean Absolute Deviation (MAD) for 'Blood Pressure After': 5.9\n"
     ]
    }
   ],
   "source": [
    "# Calculate the Mean Absolute Deviation (MAD) for 'Blood Pressure After'\n",
    "bp_after_mad = data['Blood Pressure After'].mad()\n",
    "print(\"Mean Absolute Deviation (MAD) for 'Blood Pressure After':\", bp_after_mad)"
   ]
  },
  {
   "cell_type": "code",
   "execution_count": 13,
   "id": "9f35c241",
   "metadata": {},
   "outputs": [
    {
     "name": "stdout",
     "output_type": "stream",
     "text": [
      "Standard Deviation for 'Blood Pressure After': 6.8880221025232276\n"
     ]
    }
   ],
   "source": [
    "# Calculate the Standard Deviation for 'Blood Pressure After'\n",
    "bp_after_std = data['Blood Pressure After'].std()\n",
    "print(\"Standard Deviation for 'Blood Pressure After':\", bp_after_std)"
   ]
  },
  {
   "cell_type": "markdown",
   "id": "18be11f5",
   "metadata": {},
   "source": [
    "### d. Calculate the correlation coefficient and check the significance of it at 1% level of significance."
   ]
  },
  {
   "cell_type": "code",
   "execution_count": 14,
   "id": "2ba4b89e",
   "metadata": {},
   "outputs": [
    {
     "name": "stdout",
     "output_type": "stream",
     "text": [
      "Correlation Coefficient: 0.9779485966556019\n",
      "P-value: 1.8097381433068541e-68\n"
     ]
    }
   ],
   "source": [
    "# Calculate the correlation coefficient\n",
    "correlation_coefficient, p_value = stats.pearsonr(data['Blood Pressure Before'], data['Blood Pressure After'])\n",
    "print(\"Correlation Coefficient:\", correlation_coefficient)\n",
    "print(\"P-value:\", p_value)"
   ]
  },
  {
   "cell_type": "code",
   "execution_count": 15,
   "id": "cfac6edb",
   "metadata": {},
   "outputs": [
    {
     "name": "stdout",
     "output_type": "stream",
     "text": [
      "The correlation coefficient is statistically significant at the 1% level.\n"
     ]
    }
   ],
   "source": [
    "# Check the significance at the 1% level\n",
    "alpha = 0.01\n",
    "if p_value < alpha:\n",
    "    print(\"The correlation coefficient is statistically significant at the 1% level.\")\n",
    "else:\n",
    "    print(\"The correlation coefficient is not statistically significant at the 1% level.\")\n"
   ]
  },
  {
   "cell_type": "code",
   "execution_count": null,
   "id": "2105002a",
   "metadata": {},
   "outputs": [],
   "source": []
  }
 ],
 "metadata": {
  "kernelspec": {
   "display_name": "Python 3 (ipykernel)",
   "language": "python",
   "name": "python3"
  },
  "language_info": {
   "codemirror_mode": {
    "name": "ipython",
    "version": 3
   },
   "file_extension": ".py",
   "mimetype": "text/x-python",
   "name": "python",
   "nbconvert_exporter": "python",
   "pygments_lexer": "ipython3",
   "version": "3.7.15"
  }
 },
 "nbformat": 4,
 "nbformat_minor": 5
}
