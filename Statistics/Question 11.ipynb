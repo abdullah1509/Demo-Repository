{
 "cells": [
  {
   "cell_type": "code",
   "execution_count": 21,
   "id": "c82834f7",
   "metadata": {},
   "outputs": [],
   "source": [
    "import pandas as pd\n",
    "import scipy.stats as stats\n",
    "from scipy.stats import shapiro\n",
    "from scipy.stats import levene\n",
    "from sklearn.discriminant_analysis import LinearDiscriminantAnalysis, QuadraticDiscriminantAnalysis\n",
    "from sklearn.model_selection import cross_val_score"
   ]
  },
  {
   "cell_type": "code",
   "execution_count": 2,
   "id": "bdc684bf",
   "metadata": {},
   "outputs": [
    {
     "data": {
      "text/html": [
       "<div>\n",
       "<style scoped>\n",
       "    .dataframe tbody tr th:only-of-type {\n",
       "        vertical-align: middle;\n",
       "    }\n",
       "\n",
       "    .dataframe tbody tr th {\n",
       "        vertical-align: top;\n",
       "    }\n",
       "\n",
       "    .dataframe thead th {\n",
       "        text-align: right;\n",
       "    }\n",
       "</style>\n",
       "<table border=\"1\" class=\"dataframe\">\n",
       "  <thead>\n",
       "    <tr style=\"text-align: right;\">\n",
       "      <th></th>\n",
       "      <th>Patient ID</th>\n",
       "      <th>Blood Pressure Before (mmHg)</th>\n",
       "      <th>Blood Pressure After (mmHg)</th>\n",
       "    </tr>\n",
       "  </thead>\n",
       "  <tbody>\n",
       "    <tr>\n",
       "      <th>0</th>\n",
       "      <td>1</td>\n",
       "      <td>130</td>\n",
       "      <td>120</td>\n",
       "    </tr>\n",
       "    <tr>\n",
       "      <th>1</th>\n",
       "      <td>2</td>\n",
       "      <td>142</td>\n",
       "      <td>135</td>\n",
       "    </tr>\n",
       "    <tr>\n",
       "      <th>2</th>\n",
       "      <td>3</td>\n",
       "      <td>120</td>\n",
       "      <td>118</td>\n",
       "    </tr>\n",
       "    <tr>\n",
       "      <th>3</th>\n",
       "      <td>4</td>\n",
       "      <td>135</td>\n",
       "      <td>127</td>\n",
       "    </tr>\n",
       "    <tr>\n",
       "      <th>4</th>\n",
       "      <td>5</td>\n",
       "      <td>148</td>\n",
       "      <td>140</td>\n",
       "    </tr>\n",
       "  </tbody>\n",
       "</table>\n",
       "</div>"
      ],
      "text/plain": [
       "   Patient ID   Blood Pressure Before (mmHg)   Blood Pressure After (mmHg)\n",
       "0           1                            130                           120\n",
       "1           2                            142                           135\n",
       "2           3                            120                           118\n",
       "3           4                            135                           127\n",
       "4           5                            148                           140"
      ]
     },
     "execution_count": 2,
     "metadata": {},
     "output_type": "execute_result"
    }
   ],
   "source": [
    "# Read the data into a pandas DataFrame\n",
    "data = pd.read_csv(\"bp_data.csv\")  # Replace \"your_data_file.csv\" with the actual file name\n",
    "data.head()"
   ]
  },
  {
   "cell_type": "code",
   "execution_count": 5,
   "id": "c184e3a5",
   "metadata": {},
   "outputs": [],
   "source": [
    "if data is not None:\n",
    "    data.columns = ['Patient ID', 'Blood Pressure Before', 'Blood Pressure After']  # Replace with your desired column names\n",
    "    # Rest of your code using the renamed columns\n",
    "    ...\n",
    "else:\n",
    "    print(\"DataFrame is None. Please check your data or DataFrame creation code.\")\n"
   ]
  },
  {
   "cell_type": "code",
   "execution_count": 6,
   "id": "b655266d",
   "metadata": {},
   "outputs": [
    {
     "data": {
      "text/html": [
       "<div>\n",
       "<style scoped>\n",
       "    .dataframe tbody tr th:only-of-type {\n",
       "        vertical-align: middle;\n",
       "    }\n",
       "\n",
       "    .dataframe tbody tr th {\n",
       "        vertical-align: top;\n",
       "    }\n",
       "\n",
       "    .dataframe thead th {\n",
       "        text-align: right;\n",
       "    }\n",
       "</style>\n",
       "<table border=\"1\" class=\"dataframe\">\n",
       "  <thead>\n",
       "    <tr style=\"text-align: right;\">\n",
       "      <th></th>\n",
       "      <th>Patient ID</th>\n",
       "      <th>Blood Pressure Before</th>\n",
       "      <th>Blood Pressure After</th>\n",
       "    </tr>\n",
       "  </thead>\n",
       "  <tbody>\n",
       "    <tr>\n",
       "      <th>0</th>\n",
       "      <td>1</td>\n",
       "      <td>130</td>\n",
       "      <td>120</td>\n",
       "    </tr>\n",
       "    <tr>\n",
       "      <th>1</th>\n",
       "      <td>2</td>\n",
       "      <td>142</td>\n",
       "      <td>135</td>\n",
       "    </tr>\n",
       "    <tr>\n",
       "      <th>2</th>\n",
       "      <td>3</td>\n",
       "      <td>120</td>\n",
       "      <td>118</td>\n",
       "    </tr>\n",
       "    <tr>\n",
       "      <th>3</th>\n",
       "      <td>4</td>\n",
       "      <td>135</td>\n",
       "      <td>127</td>\n",
       "    </tr>\n",
       "    <tr>\n",
       "      <th>4</th>\n",
       "      <td>5</td>\n",
       "      <td>148</td>\n",
       "      <td>140</td>\n",
       "    </tr>\n",
       "  </tbody>\n",
       "</table>\n",
       "</div>"
      ],
      "text/plain": [
       "   Patient ID  Blood Pressure Before  Blood Pressure After\n",
       "0           1                    130                   120\n",
       "1           2                    142                   135\n",
       "2           3                    120                   118\n",
       "3           4                    135                   127\n",
       "4           5                    148                   140"
      ]
     },
     "execution_count": 6,
     "metadata": {},
     "output_type": "execute_result"
    }
   ],
   "source": [
    "data.head()"
   ]
  },
  {
   "cell_type": "markdown",
   "id": "47e7004c",
   "metadata": {},
   "source": [
    "### a. Check whether the distribution of all the classes are the same or not."
   ]
  },
  {
   "cell_type": "code",
   "execution_count": 10,
   "id": "7691b2e6",
   "metadata": {},
   "outputs": [],
   "source": [
    "# Extract the \"Blood Pressure Before\" and \"Blood Pressure After\" columns\n",
    "bp_before = data[\"Blood Pressure Before\"]\n",
    "bp_after = data[\"Blood Pressure After\"]"
   ]
  },
  {
   "cell_type": "code",
   "execution_count": 13,
   "id": "f55b3771",
   "metadata": {},
   "outputs": [],
   "source": [
    "# Perform Shapiro-Wilk test on the two distributions\n",
    "_, p_value_before = shapiro(bp_before)\n",
    "_, p_value_after = shapiro(bp_after)"
   ]
  },
  {
   "cell_type": "code",
   "execution_count": 14,
   "id": "f1efa1bb",
   "metadata": {},
   "outputs": [
    {
     "name": "stdout",
     "output_type": "stream",
     "text": [
      "The distributions of Before and After are different. 0.0001943297975230962\n"
     ]
    }
   ],
   "source": [
    "# Compare the p-values to determine if the distributions are the same\n",
    "if p_value_before > 0.05 and p_value_after > 0.05:\n",
    "    print(\"The distributions of Before and After are similar.\", p_value_before)\n",
    "else:\n",
    "    print(\"The distributions of Before and After are different.\", p_value_after)"
   ]
  },
  {
   "cell_type": "markdown",
   "id": "d64a9dd1",
   "metadata": {},
   "source": [
    "### b. Check for the equality of variance"
   ]
  },
  {
   "cell_type": "code",
   "execution_count": 16,
   "id": "8750dd74",
   "metadata": {},
   "outputs": [],
   "source": [
    "# Extract the \"Blood Pressure Before\" and \"Blood Pressure After\" columns\n",
    "bp_before = data[\"Blood Pressure Before\"]\n",
    "bp_after = data[\"Blood Pressure After\"]"
   ]
  },
  {
   "cell_type": "code",
   "execution_count": 17,
   "id": "14acc38f",
   "metadata": {},
   "outputs": [],
   "source": [
    "# Perform Levene's test to check for equality of variance\n",
    "_, p_value = levene(bp_before, bp_after)"
   ]
  },
  {
   "cell_type": "code",
   "execution_count": 18,
   "id": "063905fc",
   "metadata": {},
   "outputs": [
    {
     "name": "stdout",
     "output_type": "stream",
     "text": [
      "The variances of Before and After are equal.\n"
     ]
    }
   ],
   "source": [
    "# Compare the p-value to determine if the variances are equal\n",
    "if p_value > 0.05:\n",
    "    print(\"The variances of Before and After are equal.\")\n",
    "else:\n",
    "    print(\"The variances of Before and After are not equal.\")"
   ]
  },
  {
   "cell_type": "markdown",
   "id": "2cbfb2bd",
   "metadata": {},
   "source": [
    "### c. Which amount LDA and QDA would perform better on this data for classification and why."
   ]
  },
  {
   "cell_type": "markdown",
   "id": "41e9ffbe",
   "metadata": {},
   "source": [
    "LDA assumes that the classes have a common covariance matrix and that the data is normally distributed. It projects the data onto a lower-dimensional space and finds linear discriminants that maximize the separation between classes. LDA is often effective when the classes are well-separated and the assumption of a common covariance matrix holds.\n",
    "\n",
    "While QDA relaxes the assumption of a common covariance matrix and allows for different covariance matrices for each class. It also assumes that the data is normally distributed. QDA can capture more complex relationships between variables and can be more flexible when the covariance matrices differ significantly between classes."
   ]
  },
  {
   "cell_type": "markdown",
   "id": "0b0ee8af",
   "metadata": {},
   "source": [
    "The performance of LDA and QDA depends on the specific characteristics and assumptions of the dataset. It is recommended to try both methods on the data and evaluate their performance using techniques such as cross-validation or holdout testing to choose the one that achieves higher accuracy or better meets the specific requirements of the classification problem."
   ]
  },
  {
   "cell_type": "markdown",
   "id": "41fdb595",
   "metadata": {},
   "source": [
    "### d. Check the equality of mean for between all the classes."
   ]
  },
  {
   "cell_type": "code",
   "execution_count": 22,
   "id": "2b17d73b",
   "metadata": {},
   "outputs": [],
   "source": [
    "# Select the relevant columns\n",
    "before_pressure = data['Blood Pressure Before']\n",
    "after_pressure = data['Blood Pressure After']"
   ]
  },
  {
   "cell_type": "code",
   "execution_count": 23,
   "id": "6cf7010f",
   "metadata": {},
   "outputs": [],
   "source": [
    "# Perform one-way ANOVA\n",
    "_, p_value = stats.f_oneway(before_pressure, after_pressure)\n",
    "\n",
    "# Define significance level\n",
    "alpha = 0.05"
   ]
  },
  {
   "cell_type": "code",
   "execution_count": 24,
   "id": "2cd7363d",
   "metadata": {},
   "outputs": [
    {
     "name": "stdout",
     "output_type": "stream",
     "text": [
      "There is a significant difference in mean values between the classes.\n"
     ]
    }
   ],
   "source": [
    "# Check if p-value is less than significance level\n",
    "if p_value < alpha:\n",
    "    print(\"There is a significant difference in mean values between the classes.\")\n",
    "else:\n",
    "    print(\"There is no significant difference in mean values between the classes.\")"
   ]
  },
  {
   "cell_type": "code",
   "execution_count": null,
   "id": "0d6e23cc",
   "metadata": {},
   "outputs": [],
   "source": []
  }
 ],
 "metadata": {
  "kernelspec": {
   "display_name": "Python 3 (ipykernel)",
   "language": "python",
   "name": "python3"
  },
  "language_info": {
   "codemirror_mode": {
    "name": "ipython",
    "version": 3
   },
   "file_extension": ".py",
   "mimetype": "text/x-python",
   "name": "python",
   "nbconvert_exporter": "python",
   "pygments_lexer": "ipython3",
   "version": "3.7.15"
  }
 },
 "nbformat": 4,
 "nbformat_minor": 5
}
