{
 "cells": [
  {
   "cell_type": "code",
   "execution_count": 1,
   "id": "64085c22",
   "metadata": {},
   "outputs": [],
   "source": [
    "import pandas as pd\n",
    "from scipy.stats import wilcoxon"
   ]
  },
  {
   "cell_type": "code",
   "execution_count": 2,
   "id": "480d5221",
   "metadata": {},
   "outputs": [],
   "source": [
    "# Create a DataFrame with the given data\n",
    "data = pd.DataFrame({\n",
    "    'Participants': [1, 2, 3, 4, 5, 6, 7, 8, 9, 10],\n",
    "    'Before therapy': [10, 8, 12, 15, 6, 9, 11, 7, 14, 10],\n",
    "    'After therapy': [7, 6, 10, 12, 5, 8, 9, 6, 12, 8],\n",
    "    'Difference': [-3, -2, -2, -3, -1, -1, -2, -1, -2, -2]\n",
    "})"
   ]
  },
  {
   "cell_type": "code",
   "execution_count": 3,
   "id": "b27bc0cb",
   "metadata": {},
   "outputs": [
    {
     "name": "stdout",
     "output_type": "stream",
     "text": [
      "Wilcoxon signed-rank test:\n",
      "Statistic: 0.0\n",
      "p-value: 0.001953125\n"
     ]
    }
   ],
   "source": [
    "# Perform Wilcoxon signed-rank test\n",
    "statistic, p_value = wilcoxon(data['Difference'])\n",
    "\n",
    "# Print the test result\n",
    "print(\"Wilcoxon signed-rank test:\")\n",
    "print(\"Statistic:\", statistic)\n",
    "print(\"p-value:\", p_value)\n"
   ]
  },
  {
   "cell_type": "code",
   "execution_count": null,
   "id": "d080aee8",
   "metadata": {},
   "outputs": [],
   "source": []
  }
 ],
 "metadata": {
  "kernelspec": {
   "display_name": "Python 3 (ipykernel)",
   "language": "python",
   "name": "python3"
  },
  "language_info": {
   "codemirror_mode": {
    "name": "ipython",
    "version": 3
   },
   "file_extension": ".py",
   "mimetype": "text/x-python",
   "name": "python",
   "nbconvert_exporter": "python",
   "pygments_lexer": "ipython3",
   "version": "3.7.15"
  }
 },
 "nbformat": 4,
 "nbformat_minor": 5
}
