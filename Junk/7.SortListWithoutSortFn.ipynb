{
  "nbformat": 4,
  "nbformat_minor": 0,
  "metadata": {
    "colab": {
      "provenance": []
    },
    "kernelspec": {
      "name": "python3",
      "display_name": "Python 3"
    },
    "language_info": {
      "name": "python"
    }
  },
  "cells": [
    {
      "cell_type": "code",
      "execution_count": null,
      "metadata": {
        "id": "nwphkL7KAMrt"
      },
      "outputs": [],
      "source": [
        "L=[5,2,3,6,4,7]\n",
        "\n",
        "for i in range(len(L)):\n",
        "    for k in range(0,len(L)-1):\n",
        "        if L[k]>L[k+1]:\n",
        "            temp = L[k]\n",
        "            L[k] = L[k+1]\n",
        "            L[k+1] = temp\n",
        "print(L)"
      ]
    }
  ]
}