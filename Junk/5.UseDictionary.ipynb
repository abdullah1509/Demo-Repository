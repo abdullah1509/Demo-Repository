{
  "nbformat": 4,
  "nbformat_minor": 0,
  "metadata": {
    "colab": {
      "provenance": []
    },
    "kernelspec": {
      "name": "python3",
      "display_name": "Python 3"
    },
    "language_info": {
      "name": "python"
    }
  },
  "cells": [
    {
      "cell_type": "code",
      "execution_count": null,
      "metadata": {
        "colab": {
          "base_uri": "https://localhost:8080/"
        },
        "id": "BxIQIQ9MkSFj",
        "outputId": "28b62a2d-8371-4cec-c1d4-0b975c0ca156"
      },
      "outputs": [
        {
          "name": "stdout",
          "output_type": "stream",
          "text": [
            "Number of Elements: 2\n",
            "Enter Id: 101\n"
          ]
        }
      ],
      "source": [
        "a={}\n",
        "n=int(input(\"Number of Elements: \"))\n",
        "for i in range(n):\n",
        "    k=input(\"Enter Id: \")\n",
        "    v=input(\"Enter Name: \")\n",
        "    a.update({k:v})\n",
        "\n",
        "print(a)\n",
        "\n",
        "\n",
        "\n",
        "\n"
      ]
    }
  ]
}