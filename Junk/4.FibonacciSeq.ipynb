{
  "nbformat": 4,
  "nbformat_minor": 0,
  "metadata": {
    "colab": {
      "provenance": []
    },
    "kernelspec": {
      "name": "python3",
      "display_name": "Python 3"
    },
    "language_info": {
      "name": "python"
    }
  },
  "cells": [
    {
      "cell_type": "code",
      "execution_count": 3,
      "metadata": {
        "colab": {
          "base_uri": "https://localhost:8080/"
        },
        "id": "G28Ir_MIxObu",
        "outputId": "757c4d76-473e-42fb-ccdd-f0de449524ae"
      },
      "outputs": [
        {
          "output_type": "stream",
          "name": "stdout",
          "text": [
            "0\n",
            "1\n",
            "Upto which element:15\n",
            "1\n",
            "2\n",
            "3\n",
            "5\n",
            "8\n",
            "13\n",
            "21\n",
            "34\n",
            "55\n",
            "89\n",
            "144\n",
            "233\n",
            "377\n",
            "610\n",
            "Program finished\n"
          ]
        }
      ],
      "source": [
        "first=0\n",
        "second=1\n",
        "print(first)\n",
        "print(second)\n",
        "N=int(input('Upto which element:'))\n",
        "\n",
        "for a in range(1,N):\n",
        "    third=first+second\n",
        "    print(third)\n",
        "    first,second=second,third\n",
        "print(\"Program finished\")"
      ]
    }
  ]
}