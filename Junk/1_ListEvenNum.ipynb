{
  "nbformat": 4,
  "nbformat_minor": 0,
  "metadata": {
    "colab": {
      "provenance": []
    },
    "kernelspec": {
      "name": "python3",
      "display_name": "Python 3"
    },
    "language_info": {
      "name": "python"
    }
  },
  "cells": [
    {
      "cell_type": "code",
      "execution_count": null,
      "metadata": {
        "id": "fMvPRiyB3h94",
        "colab": {
          "base_uri": "https://localhost:8080/"
        },
        "outputId": "21d08682-6fcd-49b3-d21a-38b365f40f8e"
      },
      "outputs": [
        {
          "output_type": "stream",
          "name": "stdout",
          "text": [
            "[2, 6, 8, 4, 8]\n"
          ]
        }
      ],
      "source": [
        "def separate_even_numbers(our_list):\n",
        "   list_even=list([])\n",
        "   for i in range(len(our_list)):\n",
        "       if((our_list[i] % 2) == 0):\n",
        "           list_even.append(our_list[i])\n",
        "\n",
        "   return list_even\n",
        "\n",
        "\n",
        "test_list = [2, 5, 6, 3, 8, 4, 1, 5, 8]\n",
        "list_even = separate_even_numbers(test_list)\n",
        "print (list_even)"
      ]
    }
  ]
}