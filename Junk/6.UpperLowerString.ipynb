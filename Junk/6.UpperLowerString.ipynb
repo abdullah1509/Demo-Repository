{
  "nbformat": 4,
  "nbformat_minor": 0,
  "metadata": {
    "colab": {
      "provenance": []
    },
    "kernelspec": {
      "name": "python3",
      "display_name": "Python 3"
    },
    "language_info": {
      "name": "python"
    }
  },
  "cells": [
    {
      "cell_type": "code",
      "execution_count": 2,
      "metadata": {
        "colab": {
          "base_uri": "https://localhost:8080/"
        },
        "id": "XQlNv5Pl6kGs",
        "outputId": "97eab6e0-a68f-43c1-cd56-8d1ea421237e"
      },
      "outputs": [
        {
          "output_type": "stream",
          "name": "stdout",
          "text": [
            "Enter a String: shilpa\n",
            "SHILPA\n"
          ]
        }
      ],
      "source": [
        "x=input(\"Enter a String: \")\n",
        "if(x.isupper()):\n",
        "  print(x.lower())\n",
        "if(x.islower()):\n",
        "  print(x.upper())"
      ]
    }
  ]
}