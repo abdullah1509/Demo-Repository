{
 "cells": [
  {
   "cell_type": "code",
   "execution_count": 1,
   "id": "0bb9e9d2",
   "metadata": {
    "scrolled": true
   },
   "outputs": [],
   "source": [
    "import tensorflow as tf\n",
    "from tensorflow.keras.datasets import mnist\n",
    "from tensorflow.keras.models import Sequential\n",
    "from tensorflow.keras.layers import Conv2D, MaxPooling2D, Flatten, Dense\n",
    "from tensorflow.keras.utils import to_categorical"
   ]
  },
  {
   "cell_type": "code",
   "execution_count": 2,
   "id": "6868d207",
   "metadata": {},
   "outputs": [],
   "source": [
    "# Load the MNIST dataset\n",
    "(X_train, y_train), (X_test, y_test) = mnist.load_data()"
   ]
  },
  {
   "cell_type": "code",
   "execution_count": 3,
   "id": "d0fb3366",
   "metadata": {},
   "outputs": [],
   "source": [
    "# Preprocess the data\n",
    "X_train = X_train.reshape(-1, 28, 28, 1) / 255.0\n",
    "X_test = X_test.reshape(-1, 28, 28, 1) / 255.0\n",
    "y_train = to_categorical(y_train)\n",
    "y_test = to_categorical(y_test)"
   ]
  },
  {
   "cell_type": "code",
   "execution_count": 4,
   "id": "a61d0b8f",
   "metadata": {},
   "outputs": [],
   "source": [
    "# Define the first CNN architecture\n",
    "model_1 = Sequential([\n",
    "    Conv2D(16, (3, 3), activation='relu', input_shape=(28, 28, 1)),\n",
    "    MaxPooling2D((2, 2)),\n",
    "    Flatten(),\n",
    "    Dense(128, activation='relu'),\n",
    "    Dense(10, activation='softmax')\n",
    "])"
   ]
  },
  {
   "cell_type": "code",
   "execution_count": 5,
   "id": "35606d1f",
   "metadata": {},
   "outputs": [],
   "source": [
    "# Compile the models\n",
    "model_1.compile(optimizer='adam', loss='categorical_crossentropy', metrics=['accuracy'])"
   ]
  },
  {
   "cell_type": "code",
   "execution_count": 6,
   "id": "4b4d3018",
   "metadata": {},
   "outputs": [],
   "source": [
    "# Define the second CNN architecture\n",
    "model_2 = Sequential([\n",
    "    Conv2D(8, (3, 3), activation='relu', input_shape=(28, 28, 1)),\n",
    "    MaxPooling2D((2, 2)),\n",
    "    Conv2D(16, (3, 3), activation='relu'),\n",
    "    MaxPooling2D((2, 2)),\n",
    "    Flatten(),\n",
    "    Dense(64, activation='relu'),\n",
    "    Dense(10, activation='softmax')\n",
    "])"
   ]
  },
  {
   "cell_type": "code",
   "execution_count": 7,
   "id": "fbbb6925",
   "metadata": {},
   "outputs": [],
   "source": [
    "# Compile the models\n",
    "model_2.compile(optimizer='adam', loss='categorical_crossentropy', metrics=['accuracy'])"
   ]
  },
  {
   "cell_type": "code",
   "execution_count": 8,
   "id": "003959a8",
   "metadata": {},
   "outputs": [],
   "source": [
    "# Define the third CNN architecture\n",
    "model_3 = Sequential([\n",
    "    Conv2D(4, (3, 3), activation='relu', input_shape=(28, 28, 1)),\n",
    "    Conv2D(8, (3, 3), activation='relu'),\n",
    "    Flatten(),\n",
    "    Dense(32, activation='relu'),\n",
    "    Dense(10, activation='softmax')\n",
    "])"
   ]
  },
  {
   "cell_type": "code",
   "execution_count": 9,
   "id": "c6ee57c1",
   "metadata": {},
   "outputs": [],
   "source": [
    "# Compile the models\n",
    "model_3.compile(optimizer='adam', loss='categorical_crossentropy', metrics=['accuracy'])"
   ]
  },
  {
   "cell_type": "code",
   "execution_count": null,
   "id": "50426492",
   "metadata": {},
   "outputs": [],
   "source": []
  },
  {
   "cell_type": "code",
   "execution_count": 10,
   "id": "9d4a325a",
   "metadata": {
    "scrolled": false
   },
   "outputs": [
    {
     "name": "stdout",
     "output_type": "stream",
     "text": [
      "Epoch 1/10\n",
      "1875/1875 [==============================] - 83s 43ms/step - loss: 0.1701 - accuracy: 0.9494 - val_loss: 0.0676 - val_accuracy: 0.9782\n",
      "Epoch 2/10\n",
      "1875/1875 [==============================] - 74s 40ms/step - loss: 0.0593 - accuracy: 0.9822 - val_loss: 0.0631 - val_accuracy: 0.9785\n",
      "Epoch 3/10\n",
      "1875/1875 [==============================] - 60s 32ms/step - loss: 0.0384 - accuracy: 0.9879 - val_loss: 0.0482 - val_accuracy: 0.9827\n",
      "Epoch 4/10\n",
      "1875/1875 [==============================] - 58s 31ms/step - loss: 0.0266 - accuracy: 0.9914 - val_loss: 0.0500 - val_accuracy: 0.9824\n",
      "Epoch 5/10\n",
      "1875/1875 [==============================] - 58s 31ms/step - loss: 0.0184 - accuracy: 0.9945 - val_loss: 0.0556 - val_accuracy: 0.9828\n",
      "Epoch 6/10\n",
      "1875/1875 [==============================] - 57s 31ms/step - loss: 0.0137 - accuracy: 0.9957 - val_loss: 0.0585 - val_accuracy: 0.9819\n",
      "Epoch 7/10\n",
      "1875/1875 [==============================] - 57s 30ms/step - loss: 0.0101 - accuracy: 0.9969 - val_loss: 0.0503 - val_accuracy: 0.9857\n",
      "Epoch 8/10\n",
      "1875/1875 [==============================] - 58s 31ms/step - loss: 0.0079 - accuracy: 0.9976 - val_loss: 0.0506 - val_accuracy: 0.9865\n",
      "Epoch 9/10\n",
      "1875/1875 [==============================] - 59s 32ms/step - loss: 0.0067 - accuracy: 0.9978 - val_loss: 0.0559 - val_accuracy: 0.9851\n",
      "Epoch 10/10\n",
      "1875/1875 [==============================] - 60s 32ms/step - loss: 0.0047 - accuracy: 0.9985 - val_loss: 0.0528 - val_accuracy: 0.9853\n"
     ]
    }
   ],
   "source": [
    "# Train the models\n",
    "history_1 = model_1.fit(X_train, y_train, epochs=10, validation_data=(X_test, y_test))"
   ]
  },
  {
   "cell_type": "code",
   "execution_count": 11,
   "id": "3d5c3832",
   "metadata": {
    "scrolled": false
   },
   "outputs": [
    {
     "name": "stdout",
     "output_type": "stream",
     "text": [
      "Epoch 1/10\n",
      "1875/1875 [==============================] - 45s 23ms/step - loss: 0.2194 - accuracy: 0.9355 - val_loss: 0.0836 - val_accuracy: 0.9743\n",
      "Epoch 2/10\n",
      "1875/1875 [==============================] - 47s 25ms/step - loss: 0.0736 - accuracy: 0.9775 - val_loss: 0.0471 - val_accuracy: 0.9837\n",
      "Epoch 3/10\n",
      "1875/1875 [==============================] - 50s 26ms/step - loss: 0.0530 - accuracy: 0.9840 - val_loss: 0.0452 - val_accuracy: 0.9852\n",
      "Epoch 4/10\n",
      "1875/1875 [==============================] - 44s 23ms/step - loss: 0.0429 - accuracy: 0.9865 - val_loss: 0.0469 - val_accuracy: 0.9845\n",
      "Epoch 5/10\n",
      "1875/1875 [==============================] - 53s 28ms/step - loss: 0.0349 - accuracy: 0.9893 - val_loss: 0.0374 - val_accuracy: 0.9870\n",
      "Epoch 6/10\n",
      "1875/1875 [==============================] - 64s 34ms/step - loss: 0.0301 - accuracy: 0.9906 - val_loss: 0.0358 - val_accuracy: 0.9879\n",
      "Epoch 7/10\n",
      "1875/1875 [==============================] - 44s 24ms/step - loss: 0.0248 - accuracy: 0.9923 - val_loss: 0.0300 - val_accuracy: 0.9902\n",
      "Epoch 8/10\n",
      "1875/1875 [==============================] - 50s 27ms/step - loss: 0.0210 - accuracy: 0.9933 - val_loss: 0.0416 - val_accuracy: 0.9881\n",
      "Epoch 9/10\n",
      "1875/1875 [==============================] - 46s 25ms/step - loss: 0.0190 - accuracy: 0.9940 - val_loss: 0.0321 - val_accuracy: 0.9907\n",
      "Epoch 10/10\n",
      "1875/1875 [==============================] - 45s 24ms/step - loss: 0.0148 - accuracy: 0.9953 - val_loss: 0.0397 - val_accuracy: 0.9886\n"
     ]
    }
   ],
   "source": [
    "# Train the models\n",
    "history_2 = model_2.fit(X_train, y_train, epochs=10, validation_data=(X_test, y_test))"
   ]
  },
  {
   "cell_type": "code",
   "execution_count": 12,
   "id": "54e9cdb3",
   "metadata": {
    "scrolled": false
   },
   "outputs": [
    {
     "name": "stdout",
     "output_type": "stream",
     "text": [
      "Epoch 1/10\n",
      "1875/1875 [==============================] - 59s 30ms/step - loss: 0.1874 - accuracy: 0.9449 - val_loss: 0.0876 - val_accuracy: 0.9714\n",
      "Epoch 2/10\n",
      "1875/1875 [==============================] - 51s 27ms/step - loss: 0.0668 - accuracy: 0.9799 - val_loss: 0.0569 - val_accuracy: 0.9812\n",
      "Epoch 3/10\n",
      "1875/1875 [==============================] - 57s 30ms/step - loss: 0.0469 - accuracy: 0.9851 - val_loss: 0.0551 - val_accuracy: 0.9827\n",
      "Epoch 4/10\n",
      "1875/1875 [==============================] - 52s 28ms/step - loss: 0.0352 - accuracy: 0.9890 - val_loss: 0.0547 - val_accuracy: 0.9842\n",
      "Epoch 5/10\n",
      "1875/1875 [==============================] - 50s 27ms/step - loss: 0.0274 - accuracy: 0.9911 - val_loss: 0.0662 - val_accuracy: 0.9821\n",
      "Epoch 6/10\n",
      "1875/1875 [==============================] - 59s 31ms/step - loss: 0.0201 - accuracy: 0.9935 - val_loss: 0.0578 - val_accuracy: 0.9840\n",
      "Epoch 7/10\n",
      "1875/1875 [==============================] - 48s 26ms/step - loss: 0.0158 - accuracy: 0.9950 - val_loss: 0.0556 - val_accuracy: 0.9862\n",
      "Epoch 8/10\n",
      "1875/1875 [==============================] - 51s 27ms/step - loss: 0.0138 - accuracy: 0.9955 - val_loss: 0.0686 - val_accuracy: 0.9839\n",
      "Epoch 9/10\n",
      "1875/1875 [==============================] - 50s 26ms/step - loss: 0.0109 - accuracy: 0.9961 - val_loss: 0.0709 - val_accuracy: 0.9823\n",
      "Epoch 10/10\n",
      "1875/1875 [==============================] - 69s 37ms/step - loss: 0.0091 - accuracy: 0.9970 - val_loss: 0.0709 - val_accuracy: 0.9836\n"
     ]
    }
   ],
   "source": [
    "# Train the models\n",
    "history_3 = model_3.fit(X_train, y_train, epochs=10, validation_data=(X_test, y_test))"
   ]
  },
  {
   "cell_type": "code",
   "execution_count": null,
   "id": "19b24ad0",
   "metadata": {
    "scrolled": true
   },
   "outputs": [],
   "source": []
  },
  {
   "cell_type": "code",
   "execution_count": 13,
   "id": "b9fc2ad6",
   "metadata": {},
   "outputs": [],
   "source": [
    "# Evaluate the models\n",
    "score_1 = model_1.evaluate(X_test, y_test, verbose=0)"
   ]
  },
  {
   "cell_type": "code",
   "execution_count": 14,
   "id": "c489b105",
   "metadata": {},
   "outputs": [],
   "source": [
    "# Evaluate the models\n",
    "score_2 = model_2.evaluate(X_test, y_test, verbose=0)"
   ]
  },
  {
   "cell_type": "code",
   "execution_count": 15,
   "id": "c010aadd",
   "metadata": {},
   "outputs": [],
   "source": [
    "# Evaluate the models\n",
    "score_3 = model_3.evaluate(X_test, y_test, verbose=0)"
   ]
  },
  {
   "cell_type": "code",
   "execution_count": 16,
   "id": "7e9c52a3",
   "metadata": {},
   "outputs": [
    {
     "name": "stdout",
     "output_type": "stream",
     "text": [
      "\n",
      "Architecture    | Parameters | Test Accuracy\n",
      "-------------------------------------------\n",
      "Model 1         |   347690     |    0.9853\n",
      "Model 2         |   27562     |    0.9886\n",
      "Model 3         |   148154     |    0.9836\n",
      "\n"
     ]
    }
   ],
   "source": [
    "# Create a comparison table\n",
    "table = \"\"\"\n",
    "Architecture    | Parameters | Test Accuracy\n",
    "-------------------------------------------\n",
    "Model 1         |   {}     |    {:.4f}\n",
    "Model 2         |   {}     |    {:.4f}\n",
    "Model 3         |   {}     |    {:.4f}\n",
    "\"\"\".format(model_1.count_params(), score_1[1], model_2.count_params(), score_2[1], model_3.count_params(), score_3[1])\n",
    "\n",
    "print(table)"
   ]
  },
  {
   "cell_type": "code",
   "execution_count": null,
   "id": "c68bfe5c",
   "metadata": {},
   "outputs": [],
   "source": []
  }
 ],
 "metadata": {
  "kernelspec": {
   "display_name": "Python 3 (ipykernel)",
   "language": "python",
   "name": "python3"
  },
  "language_info": {
   "codemirror_mode": {
    "name": "ipython",
    "version": 3
   },
   "file_extension": ".py",
   "mimetype": "text/x-python",
   "name": "python",
   "nbconvert_exporter": "python",
   "pygments_lexer": "ipython3",
   "version": "3.7.15"
  }
 },
 "nbformat": 4,
 "nbformat_minor": 5
}
