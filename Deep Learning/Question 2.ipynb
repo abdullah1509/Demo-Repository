{
 "cells": [
  {
   "cell_type": "code",
   "execution_count": 1,
   "id": "8be6c870",
   "metadata": {},
   "outputs": [],
   "source": [
    "import torch\n",
    "import torch.nn as nn\n",
    "import torch.optim as optim\n",
    "import torchvision.transforms as transforms\n",
    "import torchvision.datasets as datasets"
   ]
  },
  {
   "cell_type": "code",
   "execution_count": 2,
   "id": "cac0df4d",
   "metadata": {},
   "outputs": [],
   "source": [
    "import torch\n",
    "\n",
    "# Check if GPU is available\n",
    "device = torch.device('cuda' if torch.cuda.is_available() else 'cpu')"
   ]
  },
  {
   "cell_type": "code",
   "execution_count": 3,
   "id": "b2e146bb",
   "metadata": {},
   "outputs": [],
   "source": [
    "# Define your CNN architectures here\n",
    "\n",
    "# Model 1\n",
    "model1 = nn.Sequential(\n",
    "    nn.Conv2d(3, 32, kernel_size=3, stride=1, padding=1),\n",
    "    nn.ReLU(),\n",
    "    nn.MaxPool2d(kernel_size=2, stride=2),\n",
    "    nn.Flatten(),\n",
    "    nn.Linear(32*16*16, 256),\n",
    "    nn.ReLU(),\n",
    "    nn.Linear(256, 10))"
   ]
  },
  {
   "cell_type": "code",
   "execution_count": 4,
   "id": "69e81e94",
   "metadata": {},
   "outputs": [],
   "source": [
    "# Model 2\n",
    "model2 = nn.Sequential(\n",
    "    nn.Conv2d(3, 64, kernel_size=3, stride=1, padding=1),\n",
    "    nn.ReLU(),\n",
    "    nn.MaxPool2d(kernel_size=2, stride=2),\n",
    "    nn.Flatten(),\n",
    "    nn.Linear(64*16*16, 512),\n",
    "    nn.ReLU(),\n",
    "    nn.Linear(512, 10))"
   ]
  },
  {
   "cell_type": "code",
   "execution_count": 5,
   "id": "1d70b605",
   "metadata": {},
   "outputs": [],
   "source": [
    "# Model 3\n",
    "model3 = nn.Sequential(\n",
    "    nn.Conv2d(3, 128, kernel_size=3, stride=1, padding=1),\n",
    "    nn.ReLU(),\n",
    "    nn.MaxPool2d(kernel_size=2, stride=2),\n",
    "    nn.Flatten(),\n",
    "    nn.Linear(128*16*16, 1024),\n",
    "    nn.ReLU(),\n",
    "    nn.Linear(1024, 10))"
   ]
  },
  {
   "cell_type": "code",
   "execution_count": 6,
   "id": "5f402ab1",
   "metadata": {},
   "outputs": [],
   "source": [
    "# Model 4\n",
    "model4 = nn.Sequential(\n",
    "    nn.Conv2d(3, 32, kernel_size=3, stride=1, padding=1),\n",
    "    nn.ReLU(),\n",
    "    nn.Conv2d(32, 64, kernel_size=3, stride=1, padding=1),\n",
    "    nn.ReLU(),\n",
    "    nn.MaxPool2d(kernel_size=2, stride=2),\n",
    "    nn.Flatten(),\n",
    "    nn.Linear(64*8*8, 256),\n",
    "    nn.ReLU(),\n",
    "    nn.Linear(256, 10))"
   ]
  },
  {
   "cell_type": "code",
   "execution_count": 7,
   "id": "87b0f9b7",
   "metadata": {},
   "outputs": [],
   "source": [
    "# Model 5\n",
    "model5 = nn.Sequential(\n",
    "    nn.Conv2d(3, 64, kernel_size=3, stride=1, padding=1),\n",
    "    nn.ReLU(),\n",
    "    nn.Conv2d(64, 128, kernel_size=3, stride=1, padding=1),\n",
    "    nn.ReLU(),\n",
    "    nn.MaxPool2d(kernel_size=2, stride=2),\n",
    "    nn.Flatten(),\n",
    "    nn.Linear(128*8*8, 512),\n",
    "    nn.ReLU(),\n",
    "    nn.Linear(512, 10))"
   ]
  },
  {
   "cell_type": "code",
   "execution_count": 8,
   "id": "f5c70406",
   "metadata": {},
   "outputs": [],
   "source": [
    "# Load CIFAR-10 dataset\n",
    "transform = transforms.Compose([\n",
    "    transforms.ToTensor(),\n",
    "    transforms.Normalize((0.5, 0.5, 0.5), (0.5, 0.5, 0.5))])"
   ]
  },
  {
   "cell_type": "code",
   "execution_count": 9,
   "id": "c1b8e3f2",
   "metadata": {},
   "outputs": [
    {
     "name": "stdout",
     "output_type": "stream",
     "text": [
      "Files already downloaded and verified\n",
      "Files already downloaded and verified\n"
     ]
    }
   ],
   "source": [
    "trainset = datasets.CIFAR10(root='./data', train=True, download=True, transform=transform)\n",
    "testset = datasets.CIFAR10(root='./data', train=False, download=True, transform=transform)"
   ]
  },
  {
   "cell_type": "code",
   "execution_count": 10,
   "id": "4f1aafc1",
   "metadata": {},
   "outputs": [],
   "source": [
    "# Define dataloaders\n",
    "batch_size = 128\n",
    "trainloader = torch.utils.data.DataLoader(trainset, batch_size=batch_size, shuffle=True)\n",
    "testloader = torch.utils.data.DataLoader(testset, batch_size=batch_size, shuffle=False)"
   ]
  },
  {
   "cell_type": "code",
   "execution_count": 11,
   "id": "0d7557dd",
   "metadata": {},
   "outputs": [],
   "source": [
    "# Define loss function and optimizer\n",
    "criterion = nn.CrossEntropyLoss()\n",
    "optimizer = optim.Adam"
   ]
  },
  {
   "cell_type": "code",
   "execution_count": 12,
   "id": "c668bb1c",
   "metadata": {},
   "outputs": [],
   "source": [
    "def train(model, optimizer, criterion, trainloader, device):\n",
    "    model.train()  # Set the model to training mode\n",
    "    running_loss = 0.0\n",
    "\n",
    "    for inputs, labels in trainloader:\n",
    "        inputs = inputs.to(device)\n",
    "        labels = labels.to(device)\n",
    "\n",
    "        optimizer.zero_grad()  # Zero the gradients\n",
    "\n",
    "        outputs = model(inputs)  # Forward pass\n",
    "        loss = criterion(outputs, labels)  # Compute the loss\n",
    "        loss.backward()  # Backward pass\n",
    "        optimizer.step()  # Update the model parameters\n",
    "\n",
    "        running_loss += loss.item()\n",
    "\n",
    "    return running_loss / len(trainloader)\n"
   ]
  },
  {
   "cell_type": "code",
   "execution_count": 13,
   "id": "e6247c5e",
   "metadata": {},
   "outputs": [],
   "source": [
    "def evaluate(model, criterion, dataloader, device):\n",
    "    model.eval()\n",
    "    running_loss = 0.0\n",
    "    correct = 0\n",
    "    total = 0\n",
    "\n",
    "    with torch.no_grad():\n",
    "        for inputs, labels in dataloader:\n",
    "            inputs = inputs.to(device)\n",
    "            labels = labels.to(device)\n",
    "\n",
    "            outputs = model(inputs)\n",
    "            loss = criterion(outputs, labels)\n",
    "\n",
    "            running_loss += loss.item()\n",
    "            _, predicted = torch.max(outputs.data, 1)\n",
    "            total += labels.size(0)\n",
    "            correct += (predicted == labels).sum().item()\n",
    "\n",
    "    return running_loss / len(dataloader), correct / total\n"
   ]
  },
  {
   "cell_type": "code",
   "execution_count": 14,
   "id": "107db2cc",
   "metadata": {
    "scrolled": true
   },
   "outputs": [],
   "source": [
    "# Train and evaluate each model\n",
    "\n",
    "# Model 1\n",
    "model1.to(device)\n",
    "optimizer1 = optimizer(model1.parameters(), lr=0.001)\n",
    "train(model1, optimizer1, criterion, trainloader, device)\n",
    "test_acc1 = evaluate(model1, criterion, testloader, device)"
   ]
  },
  {
   "cell_type": "code",
   "execution_count": 15,
   "id": "50293c65",
   "metadata": {},
   "outputs": [],
   "source": [
    "# Model 2\n",
    "model2.to(device)\n",
    "optimizer2 = optimizer(model2.parameters(), lr=0.001)\n",
    "train(model2, optimizer2, criterion, trainloader, device)\n",
    "test_acc2 = evaluate(model2, criterion, testloader, device)"
   ]
  },
  {
   "cell_type": "code",
   "execution_count": 16,
   "id": "ff2558e7",
   "metadata": {},
   "outputs": [],
   "source": [
    "# Model 3\n",
    "model3.to(device)\n",
    "optimizer3 = optimizer(model3.parameters(), lr=0.001)\n",
    "train(model3, optimizer3, criterion, trainloader, device)\n",
    "test_acc3 = evaluate(model3, criterion, testloader, device)"
   ]
  },
  {
   "cell_type": "code",
   "execution_count": 17,
   "id": "ba681145",
   "metadata": {},
   "outputs": [
    {
     "name": "stdout",
     "output_type": "stream",
     "text": [
      "\n",
      "Architecture | Test Accuracy\n",
      "----------------------------\n",
      "Model 1      |    0.5443\n",
      "Model 2      |    0.5753\n",
      "Model 3      |    0.5443\n",
      "\n"
     ]
    }
   ],
   "source": [
    "# Comparison table\n",
    "table = \"\"\"\n",
    "Architecture | Test Accuracy\n",
    "----------------------------\n",
    "Model 1      |    {:.4f}\n",
    "Model 2      |    {:.4f}\n",
    "Model 3      |    {:.4f}\n",
    "\"\"\".format(test_acc1[1], test_acc2[1], test_acc1[1])\n",
    "\n",
    "print(table)\n"
   ]
  },
  {
   "cell_type": "code",
   "execution_count": null,
   "id": "86a2f75c",
   "metadata": {},
   "outputs": [],
   "source": []
  }
 ],
 "metadata": {
  "kernelspec": {
   "display_name": "Python 3 (ipykernel)",
   "language": "python",
   "name": "python3"
  },
  "language_info": {
   "codemirror_mode": {
    "name": "ipython",
    "version": 3
   },
   "file_extension": ".py",
   "mimetype": "text/x-python",
   "name": "python",
   "nbconvert_exporter": "python",
   "pygments_lexer": "ipython3",
   "version": "3.7.15"
  }
 },
 "nbformat": 4,
 "nbformat_minor": 5
}
