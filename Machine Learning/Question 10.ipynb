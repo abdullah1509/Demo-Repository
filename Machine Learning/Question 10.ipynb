{
 "cells": [
  {
   "cell_type": "code",
   "execution_count": null,
   "id": "81008738",
   "metadata": {},
   "outputs": [],
   "source": [
    "import pandas as pd\n",
    "import numpy as np\n",
    "from sklearn.model_selection import train_test_split\n",
    "from sklearn.linear_model import LogisticRegression\n",
    "from sklearn.metrics import accuracy_score"
   ]
  },
  {
   "cell_type": "markdown",
   "id": "2426c6d8",
   "metadata": {},
   "source": [
    "Train and Test dataset are 5.8GB and 673MB respectively, taking much longer time to read. So writing code according to column names given in description."
   ]
  },
  {
   "cell_type": "code",
   "execution_count": null,
   "id": "18f3954d",
   "metadata": {},
   "outputs": [],
   "source": [
    "# Load the train dataset\n",
    "train_data = pd.read_csv('train.csv')\n",
    "train_data.head()"
   ]
  },
  {
   "cell_type": "code",
   "execution_count": null,
   "id": "51ce21a3",
   "metadata": {},
   "outputs": [],
   "source": [
    "# Load the test dataset\n",
    "test_data = pd.read_csv('test.csv')\n",
    "test_data.head()"
   ]
  },
  {
   "cell_type": "code",
   "execution_count": null,
   "id": "982ef796",
   "metadata": {},
   "outputs": [],
   "source": [
    "# Split the train dataset into features and labels\n",
    "X = train_data.drop('click', axis=1)\n",
    "y = train_data['click']"
   ]
  },
  {
   "cell_type": "code",
   "execution_count": null,
   "id": "b72ddd67",
   "metadata": {},
   "outputs": [],
   "source": [
    "# Split the train dataset into train and validation sets\n",
    "X_train, X_val, y_train, y_val = train_test_split(X, y, test_size=0.2, random_state=42)"
   ]
  },
  {
   "cell_type": "code",
   "execution_count": null,
   "id": "83600e8e",
   "metadata": {},
   "outputs": [],
   "source": [
    "# Train the logistic regression model\n",
    "model = LogisticRegression()\n",
    "model.fit(X_train, y_train)"
   ]
  },
  {
   "cell_type": "code",
   "execution_count": null,
   "id": "d76cd6c3",
   "metadata": {},
   "outputs": [],
   "source": [
    "# Predict on the validation set\n",
    "y_pred = model.predict(X_val)"
   ]
  },
  {
   "cell_type": "code",
   "execution_count": null,
   "id": "4cee10bb",
   "metadata": {},
   "outputs": [],
   "source": [
    "# Calculate the accuracy\n",
    "accuracy = accuracy_score(y_val, y_pred)\n",
    "print(f'Accuracy: {accuracy}')"
   ]
  },
  {
   "cell_type": "code",
   "execution_count": null,
   "id": "d60da311",
   "metadata": {},
   "outputs": [],
   "source": [
    "# Predict on the test dataset\n",
    "test_predictions = model.predict(test_data)"
   ]
  },
  {
   "cell_type": "code",
   "execution_count": null,
   "id": "a7b29085",
   "metadata": {},
   "outputs": [],
   "source": [
    "# Display the test predictions\n",
    "test_data['predictions'] = test_predictions\n",
    "print(test_data[['id', 'predictions']])"
   ]
  }
 ],
 "metadata": {
  "kernelspec": {
   "display_name": "Python 3 (ipykernel)",
   "language": "python",
   "name": "python3"
  },
  "language_info": {
   "codemirror_mode": {
    "name": "ipython",
    "version": 3
   },
   "file_extension": ".py",
   "mimetype": "text/x-python",
   "name": "python",
   "nbconvert_exporter": "python",
   "pygments_lexer": "ipython3",
   "version": "3.7.15"
  }
 },
 "nbformat": 4,
 "nbformat_minor": 5
}
