{
 "cells": [
  {
   "cell_type": "code",
   "execution_count": 1,
   "id": "a028d65e",
   "metadata": {},
   "outputs": [],
   "source": [
    "import pandas as pd"
   ]
  },
  {
   "cell_type": "code",
   "execution_count": 2,
   "id": "879b2735",
   "metadata": {},
   "outputs": [],
   "source": [
    "# Read the dataset\n",
    "df = pd.read_csv('mobile_events_2020.csv', delimiter=';')"
   ]
  },
  {
   "cell_type": "code",
   "execution_count": 3,
   "id": "414c7e44",
   "metadata": {},
   "outputs": [
    {
     "data": {
      "text/html": [
       "<div>\n",
       "<style scoped>\n",
       "    .dataframe tbody tr th:only-of-type {\n",
       "        vertical-align: middle;\n",
       "    }\n",
       "\n",
       "    .dataframe tbody tr th {\n",
       "        vertical-align: top;\n",
       "    }\n",
       "\n",
       "    .dataframe thead th {\n",
       "        text-align: right;\n",
       "    }\n",
       "</style>\n",
       "<table border=\"1\" class=\"dataframe\">\n",
       "  <thead>\n",
       "    <tr style=\"text-align: right;\">\n",
       "      <th></th>\n",
       "      <th>anonymous_id</th>\n",
       "      <th>business_zoned</th>\n",
       "      <th>context_app_version</th>\n",
       "      <th>context_device_id</th>\n",
       "      <th>context_os_name</th>\n",
       "      <th>event_name</th>\n",
       "      <th>received_at</th>\n",
       "      <th>created_at</th>\n",
       "    </tr>\n",
       "  </thead>\n",
       "  <tbody>\n",
       "    <tr>\n",
       "      <th>0</th>\n",
       "      <td>9DDC5BCD-0477-4E83-A32A-51013DA0A4E7</td>\n",
       "      <td>Hamburg</td>\n",
       "      <td>3.1.13</td>\n",
       "      <td>7A718FF6-584F-40E2-939D-224231295B1E</td>\n",
       "      <td>iOS</td>\n",
       "      <td>Out-Of-Business Zone View Shown</td>\n",
       "      <td>2020-09-01 23:59:44</td>\n",
       "      <td>2020-09-01 23:59:18</td>\n",
       "    </tr>\n",
       "    <tr>\n",
       "      <th>1</th>\n",
       "      <td>5592E78E-CE87-4258-B8D7-DD834A687A1E</td>\n",
       "      <td>Hamburg</td>\n",
       "      <td>3.1.13</td>\n",
       "      <td>11D0CB16-DA38-4565-9C3B-066E7877856C</td>\n",
       "      <td>iOS</td>\n",
       "      <td>Application Opened</td>\n",
       "      <td>2020-09-01 23:59:41</td>\n",
       "      <td>2020-09-01 23:59:35</td>\n",
       "    </tr>\n",
       "    <tr>\n",
       "      <th>2</th>\n",
       "      <td>5592E78E-CE87-4258-B8D7-DD834A687A1E</td>\n",
       "      <td>Hamburg</td>\n",
       "      <td>3.1.13</td>\n",
       "      <td>11D0CB16-DA38-4565-9C3B-066E7877856C</td>\n",
       "      <td>iOS</td>\n",
       "      <td>Ride Done - Successful</td>\n",
       "      <td>2020-09-01 23:59:41</td>\n",
       "      <td>2020-09-01 23:59:37</td>\n",
       "    </tr>\n",
       "    <tr>\n",
       "      <th>3</th>\n",
       "      <td>5592E78E-CE87-4258-B8D7-DD834A687A1E</td>\n",
       "      <td>Hamburg</td>\n",
       "      <td>3.1.13</td>\n",
       "      <td>11D0CB16-DA38-4565-9C3B-066E7877856C</td>\n",
       "      <td>iOS</td>\n",
       "      <td>Application Opened</td>\n",
       "      <td>2020-09-01 23:59:36</td>\n",
       "      <td>2020-09-01 23:37:46</td>\n",
       "    </tr>\n",
       "    <tr>\n",
       "      <th>4</th>\n",
       "      <td>5592E78E-CE87-4258-B8D7-DD834A687A1E</td>\n",
       "      <td>Hamburg</td>\n",
       "      <td>3.1.13</td>\n",
       "      <td>11D0CB16-DA38-4565-9C3B-066E7877856C</td>\n",
       "      <td>iOS</td>\n",
       "      <td>Ride Done - Unsuccessful</td>\n",
       "      <td>2020-09-01 23:59:36</td>\n",
       "      <td>2020-09-01 23:37:52</td>\n",
       "    </tr>\n",
       "  </tbody>\n",
       "</table>\n",
       "</div>"
      ],
      "text/plain": [
       "                           anonymous_id business_zoned context_app_version  \\\n",
       "0  9DDC5BCD-0477-4E83-A32A-51013DA0A4E7        Hamburg              3.1.13   \n",
       "1  5592E78E-CE87-4258-B8D7-DD834A687A1E        Hamburg              3.1.13   \n",
       "2  5592E78E-CE87-4258-B8D7-DD834A687A1E        Hamburg              3.1.13   \n",
       "3  5592E78E-CE87-4258-B8D7-DD834A687A1E        Hamburg              3.1.13   \n",
       "4  5592E78E-CE87-4258-B8D7-DD834A687A1E        Hamburg              3.1.13   \n",
       "\n",
       "                      context_device_id context_os_name  \\\n",
       "0  7A718FF6-584F-40E2-939D-224231295B1E             iOS   \n",
       "1  11D0CB16-DA38-4565-9C3B-066E7877856C             iOS   \n",
       "2  11D0CB16-DA38-4565-9C3B-066E7877856C             iOS   \n",
       "3  11D0CB16-DA38-4565-9C3B-066E7877856C             iOS   \n",
       "4  11D0CB16-DA38-4565-9C3B-066E7877856C             iOS   \n",
       "\n",
       "                        event_name          received_at           created_at  \n",
       "0  Out-Of-Business Zone View Shown  2020-09-01 23:59:44  2020-09-01 23:59:18  \n",
       "1               Application Opened  2020-09-01 23:59:41  2020-09-01 23:59:35  \n",
       "2           Ride Done - Successful  2020-09-01 23:59:41  2020-09-01 23:59:37  \n",
       "3               Application Opened  2020-09-01 23:59:36  2020-09-01 23:37:46  \n",
       "4         Ride Done - Unsuccessful  2020-09-01 23:59:36  2020-09-01 23:37:52  "
      ]
     },
     "execution_count": 3,
     "metadata": {},
     "output_type": "execute_result"
    }
   ],
   "source": [
    "df.head()"
   ]
  },
  {
   "cell_type": "code",
   "execution_count": 4,
   "id": "07207611",
   "metadata": {},
   "outputs": [
    {
     "data": {
      "text/plain": [
       "(102422, 8)"
      ]
     },
     "execution_count": 4,
     "metadata": {},
     "output_type": "execute_result"
    }
   ],
   "source": [
    "df.shape"
   ]
  },
  {
   "cell_type": "code",
   "execution_count": 5,
   "id": "307ae39b",
   "metadata": {},
   "outputs": [
    {
     "data": {
      "text/plain": [
       "anonymous_id           0\n",
       "business_zoned         0\n",
       "context_app_version    0\n",
       "context_device_id      0\n",
       "context_os_name        0\n",
       "event_name             0\n",
       "received_at            0\n",
       "created_at             0\n",
       "dtype: int64"
      ]
     },
     "execution_count": 5,
     "metadata": {},
     "output_type": "execute_result"
    }
   ],
   "source": [
    "df.isnull().sum()"
   ]
  },
  {
   "cell_type": "markdown",
   "id": "eb472f34",
   "metadata": {},
   "source": [
    "## Question 1 and 2"
   ]
  },
  {
   "cell_type": "code",
   "execution_count": 6,
   "id": "2af45443",
   "metadata": {
    "scrolled": true
   },
   "outputs": [],
   "source": [
    "# Calculate the total number of sessions\n",
    "total_sessions = len(df['anonymous_id'].unique())"
   ]
  },
  {
   "cell_type": "code",
   "execution_count": 7,
   "id": "3282de77",
   "metadata": {},
   "outputs": [],
   "source": [
    "# Calculate the % of sessions with an intention to book a scooter\n",
    "intention_to_book_count = df[df['event_name'] == 'intention_to_book'].shape[0]\n",
    "intention_to_book_percentage = (intention_to_book_count / total_sessions) * 100"
   ]
  },
  {
   "cell_type": "code",
   "execution_count": 8,
   "id": "77df20fb",
   "metadata": {},
   "outputs": [],
   "source": [
    "# Calculate the % of sessions with a successful booking\n",
    "successful_booking_count = df[df['event_name'] == 'successful_booking'].shape[0]\n",
    "successful_booking_percentage = (successful_booking_count / total_sessions) * 100"
   ]
  },
  {
   "cell_type": "code",
   "execution_count": 9,
   "id": "49a95707",
   "metadata": {},
   "outputs": [
    {
     "name": "stdout",
     "output_type": "stream",
     "text": [
      "% of sessions with an intention to book: 0.00%\n",
      "% of sessions with a successful booking: 0.00%\n"
     ]
    }
   ],
   "source": [
    "print(f\"% of sessions with an intention to book: {intention_to_book_percentage:.2f}%\")\n",
    "print(f\"% of sessions with a successful booking: {successful_booking_percentage:.2f}%\")"
   ]
  },
  {
   "cell_type": "markdown",
   "id": "38267999",
   "metadata": {},
   "source": [
    "## Question 3"
   ]
  },
  {
   "cell_type": "code",
   "execution_count": 10,
   "id": "2d91ccb0",
   "metadata": {},
   "outputs": [],
   "source": [
    "# Filter rows with the event name \"Intention to Book\"\n",
    "intention_to_book_events = df[df['event_name'] == 'Intention to Book']"
   ]
  },
  {
   "cell_type": "code",
   "execution_count": 11,
   "id": "4458dfed",
   "metadata": {},
   "outputs": [
    {
     "name": "stdout",
     "output_type": "stream",
     "text": [
      "Events associated with an intention to book:\n",
      "[]\n"
     ]
    }
   ],
   "source": [
    "# Print unique values in the \"event_name\" column for intention to book events\n",
    "unique_intention_events = intention_to_book_events['event_name'].unique()\n",
    "print(\"Events associated with an intention to book:\")\n",
    "print(unique_intention_events)"
   ]
  },
  {
   "cell_type": "markdown",
   "id": "9815eb64",
   "metadata": {},
   "source": [
    "## Question 4"
   ]
  },
  {
   "cell_type": "code",
   "execution_count": 12,
   "id": "628ad701",
   "metadata": {},
   "outputs": [],
   "source": [
    "# Filter rows with successful booking events\n",
    "successful_booking_events = df[df['event_name'] == 'Ride Done - Successful']"
   ]
  },
  {
   "cell_type": "code",
   "execution_count": 13,
   "id": "194978f5",
   "metadata": {},
   "outputs": [],
   "source": [
    "# Calculate and print unique values in relevant columns for successful booking events\n",
    "unique_context_app_versions = successful_booking_events['context_app_version'].unique()\n",
    "unique_context_os_names = successful_booking_events['context_os_name'].unique()"
   ]
  },
  {
   "cell_type": "code",
   "execution_count": 14,
   "id": "012d0df2",
   "metadata": {},
   "outputs": [
    {
     "name": "stdout",
     "output_type": "stream",
     "text": [
      "Factors contributing to a successful booking:\n",
      " \n",
      "Unique context app versions: ['3.1.13' '3.1.12' '3.1.9' '3.1.8' '3.1.7' '3.1.6' '3.1.11' '3.1.5'\n",
      " '3.1.10']\n",
      " \n",
      "Unique context OS names: ['iOS' 'Android']\n"
     ]
    }
   ],
   "source": [
    "print(\"Factors contributing to a successful booking:\")\n",
    "print(\" \")\n",
    "print(\"Unique context app versions:\", unique_context_app_versions)\n",
    "print(\" \")\n",
    "print(\"Unique context OS names:\", unique_context_os_names)"
   ]
  },
  {
   "cell_type": "markdown",
   "id": "d25f8fa4",
   "metadata": {},
   "source": [
    "## Question 5"
   ]
  },
  {
   "cell_type": "markdown",
   "id": "285a1829",
   "metadata": {},
   "source": [
    "**Hypothesis 1: Usage Pattern Influence**\n",
    "\n",
    "The usage patterns of the mobile app (such as frequency of application opens, zone views, etc.) might influence the intention to book a scooter."
   ]
  },
  {
   "cell_type": "markdown",
   "id": "9550c363",
   "metadata": {},
   "source": [
    "**Hypothesis 2: Successful Booking Factors**\n",
    "\n",
    "The app version and OS type might impact the successful booking."
   ]
  },
  {
   "cell_type": "markdown",
   "id": "830ba497",
   "metadata": {},
   "source": [
    "**Hypothesis 3: Failed Booking Analysis**\n",
    "\n",
    "Analyzing the factors why users are not booking the sccoter."
   ]
  },
  {
   "cell_type": "code",
   "execution_count": null,
   "id": "69b3df1c",
   "metadata": {},
   "outputs": [],
   "source": []
  }
 ],
 "metadata": {
  "kernelspec": {
   "display_name": "Python 3 (ipykernel)",
   "language": "python",
   "name": "python3"
  },
  "language_info": {
   "codemirror_mode": {
    "name": "ipython",
    "version": 3
   },
   "file_extension": ".py",
   "mimetype": "text/x-python",
   "name": "python",
   "nbconvert_exporter": "python",
   "pygments_lexer": "ipython3",
   "version": "3.7.15"
  }
 },
 "nbformat": 4,
 "nbformat_minor": 5
}
